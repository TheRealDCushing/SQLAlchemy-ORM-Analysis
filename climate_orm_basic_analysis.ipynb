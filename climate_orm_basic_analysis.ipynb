{
 "cells": [
  {
   "cell_type": "code",
   "execution_count": 2,
   "metadata": {},
   "outputs": [],
   "source": [
    "%matplotlib inline\n",
    "from matplotlib import style\n",
    "style.use('fivethirtyeight')\n",
    "import matplotlib.pyplot as plt"
   ]
  },
  {
   "cell_type": "code",
   "execution_count": 3,
   "metadata": {},
   "outputs": [],
   "source": [
    "import numpy as np\n",
    "import pandas as pd"
   ]
  },
  {
   "cell_type": "code",
   "execution_count": 4,
   "metadata": {},
   "outputs": [],
   "source": [
    "import datetime as dt"
   ]
  },
  {
   "cell_type": "markdown",
   "metadata": {},
   "source": [
    "# Reflect Tables into SQLAlchemy ORM"
   ]
  },
  {
   "cell_type": "code",
   "execution_count": 5,
   "metadata": {},
   "outputs": [],
   "source": [
    "# Python SQL toolkit and Object Relational Mapper\n",
    "import sqlalchemy\n",
    "from sqlalchemy.ext.automap import automap_base\n",
    "from sqlalchemy.orm import Session\n",
    "from sqlalchemy import create_engine, func\n",
    "from sqlalchemy.inspection import inspect\n",
    "from sqlalchemy import desc"
   ]
  },
  {
   "cell_type": "code",
   "execution_count": 6,
   "metadata": {},
   "outputs": [],
   "source": [
    "engine = create_engine(\"sqlite:///Resources/hawaii.sqlite\")"
   ]
  },
  {
   "cell_type": "code",
   "execution_count": 7,
   "metadata": {},
   "outputs": [],
   "source": [
    "# reflect an existing database into a new model\n",
    "Base = automap_base()\n",
    "# reflect the tables\n",
    "Base.prepare(engine, reflect=True)"
   ]
  },
  {
   "cell_type": "code",
   "execution_count": 8,
   "metadata": {},
   "outputs": [
    {
     "data": {
      "text/plain": [
       "['measurement', 'station']"
      ]
     },
     "execution_count": 8,
     "metadata": {},
     "output_type": "execute_result"
    }
   ],
   "source": [
    "# We can view all of the classes that automap found\n",
    "Base.classes.keys()"
   ]
  },
  {
   "cell_type": "code",
   "execution_count": 9,
   "metadata": {},
   "outputs": [],
   "source": [
    "# Save references to each table\n",
    "Measurement = Base.classes.measurement\n",
    "Station = Base.classes.station"
   ]
  },
  {
   "cell_type": "code",
   "execution_count": 10,
   "metadata": {},
   "outputs": [],
   "source": [
    "# Create our session (link) from Python to the DB\n",
    "session = Session(engine)"
   ]
  },
  {
   "cell_type": "markdown",
   "metadata": {},
   "source": [
    "# Exploratory Climate Analysis"
   ]
  },
  {
   "cell_type": "markdown",
   "metadata": {},
   "source": [
    "### Explanation of my approach to completing the first section\n",
    "\n",
    "* We begin with a sqlite database that contains a few tables of specific interest. For this first part, we want to get information from the Measurement table from the 'date' and 'prcp' columns. First, we a datetime module to create an object that has the specific date we want to use as a reference. (I used an sqlite DB browser to find out what the relevant date would be.) Then, we use SQL alchemy to query this database, and filter by referencing that date. \n",
    "\n",
    "* The output for our SQL alchemy query is in list format, with each item containing two pieces of separate information that we want to parse. Thankfully (because of automap), each piece retains its 'date' and 'prcp' identifying tags. So, I use a loop that appends each side of the combined list structure we've created into separate lists (to make sure it's coming out right, I print every 500 results). Then, I mash the two lists together into a dictionary. Finally, I use pd.DataFrame() to turn our new dict into a dataframe, from which I can create the first plot.\n",
    "\n",
    "* Since there are multiple stations per day, it is necessary to use some sort of method to converge the information by day. I used sum() because it produced a result identical to the objective, but it would actually make more sense to take a median value.\n",
    "\n",
    "* Once a plot object is created, it can be modified with MatPlotLib even though the plot was not created using MatPlotLib.\n"
   ]
  },
  {
   "cell_type": "code",
   "execution_count": 11,
   "metadata": {},
   "outputs": [],
   "source": [
    "# Design a query to retrieve the last 12 months of precipitation data and plot the results\n",
    "# Calculate the date 1 year ago from the last data point in the database\n",
    "# Perform a query to retrieve the data and precipitation scores\n",
    "\n",
    "prev_year_date  = dt.date(2017, 8, 23) - dt.timedelta(days=365)\n",
    "\n",
    "date_precip_list_for_1_year = session.query(Measurement.date, Measurement.prcp).\\\n",
    "            filter(Measurement.date >= prev_year_date).all()\n"
   ]
  },
  {
   "cell_type": "code",
   "execution_count": 12,
   "metadata": {},
   "outputs": [
    {
     "name": "stdout",
     "output_type": "stream",
     "text": [
      "2017-01-08 0.0\n",
      "2017-08-13 None\n",
      "2017-07-20 0.33\n",
      "2016-12-23 0.83\n"
     ]
    }
   ],
   "source": [
    "date_list=list()\n",
    "precip_list=list()\n",
    "counter=0\n",
    "for row in date_precip_list_for_1_year:\n",
    "    counter+=1\n",
    "    date_list.append(row.date)\n",
    "    precip_list.append(row.prcp)\n",
    "    if counter % 500 == 0:\n",
    "        print(row.date,row.prcp)"
   ]
  },
  {
   "cell_type": "code",
   "execution_count": 13,
   "metadata": {},
   "outputs": [
    {
     "name": "stdout",
     "output_type": "stream",
     "text": [
      "Count of rows:  2230\n"
     ]
    }
   ],
   "source": [
    "print(\"Count of rows: \", str(counter))\n",
    "date_precip_dict_for_1_year={\"date\":date_list,\"precipitation\":precip_list}"
   ]
  },
  {
   "cell_type": "code",
   "execution_count": 14,
   "metadata": {},
   "outputs": [
    {
     "data": {
      "text/html": [
       "<div>\n",
       "<style scoped>\n",
       "    .dataframe tbody tr th:only-of-type {\n",
       "        vertical-align: middle;\n",
       "    }\n",
       "\n",
       "    .dataframe tbody tr th {\n",
       "        vertical-align: top;\n",
       "    }\n",
       "\n",
       "    .dataframe thead th {\n",
       "        text-align: right;\n",
       "    }\n",
       "</style>\n",
       "<table border=\"1\" class=\"dataframe\">\n",
       "  <thead>\n",
       "    <tr style=\"text-align: right;\">\n",
       "      <th></th>\n",
       "      <th>date</th>\n",
       "      <th>precipitation</th>\n",
       "    </tr>\n",
       "  </thead>\n",
       "  <tbody>\n",
       "    <tr>\n",
       "      <th>0</th>\n",
       "      <td>2016-08-23</td>\n",
       "      <td>0.00</td>\n",
       "    </tr>\n",
       "    <tr>\n",
       "      <th>1</th>\n",
       "      <td>2016-08-24</td>\n",
       "      <td>0.08</td>\n",
       "    </tr>\n",
       "    <tr>\n",
       "      <th>2</th>\n",
       "      <td>2016-08-25</td>\n",
       "      <td>0.08</td>\n",
       "    </tr>\n",
       "    <tr>\n",
       "      <th>3</th>\n",
       "      <td>2016-08-26</td>\n",
       "      <td>0.00</td>\n",
       "    </tr>\n",
       "    <tr>\n",
       "      <th>4</th>\n",
       "      <td>2016-08-27</td>\n",
       "      <td>0.00</td>\n",
       "    </tr>\n",
       "  </tbody>\n",
       "</table>\n",
       "</div>"
      ],
      "text/plain": [
       "         date  precipitation\n",
       "0  2016-08-23           0.00\n",
       "1  2016-08-24           0.08\n",
       "2  2016-08-25           0.08\n",
       "3  2016-08-26           0.00\n",
       "4  2016-08-27           0.00"
      ]
     },
     "execution_count": 14,
     "metadata": {},
     "output_type": "execute_result"
    }
   ],
   "source": [
    "# Save the query results as a Pandas DataFrame and set the index to the date column\n",
    "date_precip_df_for_1_year = pd.DataFrame(date_precip_dict_for_1_year)\n",
    "date_precip_df_for_1_year.head()"
   ]
  },
  {
   "cell_type": "code",
   "execution_count": 15,
   "metadata": {},
   "outputs": [
    {
     "data": {
      "text/html": [
       "<div>\n",
       "<style scoped>\n",
       "    .dataframe tbody tr th:only-of-type {\n",
       "        vertical-align: middle;\n",
       "    }\n",
       "\n",
       "    .dataframe tbody tr th {\n",
       "        vertical-align: top;\n",
       "    }\n",
       "\n",
       "    .dataframe thead th {\n",
       "        text-align: right;\n",
       "    }\n",
       "</style>\n",
       "<table border=\"1\" class=\"dataframe\">\n",
       "  <thead>\n",
       "    <tr style=\"text-align: right;\">\n",
       "      <th></th>\n",
       "      <th>date</th>\n",
       "      <th>precipitation</th>\n",
       "    </tr>\n",
       "  </thead>\n",
       "  <tbody>\n",
       "    <tr>\n",
       "      <th>0</th>\n",
       "      <td>2016-08-23</td>\n",
       "      <td>2.71</td>\n",
       "    </tr>\n",
       "    <tr>\n",
       "      <th>1</th>\n",
       "      <td>2016-08-24</td>\n",
       "      <td>9.33</td>\n",
       "    </tr>\n",
       "    <tr>\n",
       "      <th>2</th>\n",
       "      <td>2016-08-25</td>\n",
       "      <td>0.54</td>\n",
       "    </tr>\n",
       "    <tr>\n",
       "      <th>3</th>\n",
       "      <td>2016-08-26</td>\n",
       "      <td>0.10</td>\n",
       "    </tr>\n",
       "    <tr>\n",
       "      <th>4</th>\n",
       "      <td>2016-08-27</td>\n",
       "      <td>0.32</td>\n",
       "    </tr>\n",
       "  </tbody>\n",
       "</table>\n",
       "</div>"
      ],
      "text/plain": [
       "         date  precipitation\n",
       "0  2016-08-23           2.71\n",
       "1  2016-08-24           9.33\n",
       "2  2016-08-25           0.54\n",
       "3  2016-08-26           0.10\n",
       "4  2016-08-27           0.32"
      ]
     },
     "execution_count": 15,
     "metadata": {},
     "output_type": "execute_result"
    }
   ],
   "source": [
    "date_precip_grouped_df_for_1_year_with_funky_index = date_precip_df_for_1_year.groupby(['date']).sum()\n",
    "date_precip_grouped_df_for_1_year_with_funky_index.count()\n",
    "\n",
    "date_precip_grouped_df_for_1_year = date_precip_grouped_df_for_1_year_with_funky_index.reset_index()\n",
    "date_precip_grouped_df_for_1_year.head()"
   ]
  },
  {
   "cell_type": "code",
   "execution_count": 56,
   "metadata": {},
   "outputs": [
    {
     "data": {
      "text/plain": [
       "Text(0, 0.5, 'precipitation')"
      ]
     },
     "execution_count": 56,
     "metadata": {},
     "output_type": "execute_result"
    },
    {
     "data": {
      "image/png": "[encoded data removed]",
      "text/plain": [
       "<Figure size 432x288 with 1 Axes>"
      ]
     },
     "metadata": {
      "needs_background": "light"
     },
     "output_type": "display_data"
    }
   ],
   "source": [
    "# Sort the dataframe by date\n",
    "\n",
    "date_precip_grouped_df_for_1_year.plot(x=\"date\",y=\"precipitation\",kind=\"line\",title=\" Date vs Precipitation \")\n",
    "plt.tick_params(\n",
    "   axis='x',          # changes apply to the x-axis\n",
    "   which='both',      # both major and minor ticks are affected\n",
    "   bottom=False,      # ticks along the bottom edge are off\n",
    "   top=False,         # ticks along the top edge are off\n",
    "   labelbottom=False)\n",
    "\n",
    "plt.ylabel(\"precipitation\")"
   ]
  },
  {
   "cell_type": "code",
   "execution_count": 57,
   "metadata": {},
   "outputs": [
    {
     "data": {
      "text/html": [
       "<div>\n",
       "<style scoped>\n",
       "    .dataframe tbody tr th:only-of-type {\n",
       "        vertical-align: middle;\n",
       "    }\n",
       "\n",
       "    .dataframe tbody tr th {\n",
       "        vertical-align: top;\n",
       "    }\n",
       "\n",
       "    .dataframe thead th {\n",
       "        text-align: right;\n",
       "    }\n",
       "</style>\n",
       "<table border=\"1\" class=\"dataframe\">\n",
       "  <thead>\n",
       "    <tr style=\"text-align: right;\">\n",
       "      <th></th>\n",
       "      <th>precipitation</th>\n",
       "    </tr>\n",
       "  </thead>\n",
       "  <tbody>\n",
       "    <tr>\n",
       "      <th>count</th>\n",
       "      <td>366.000000</td>\n",
       "    </tr>\n",
       "    <tr>\n",
       "      <th>mean</th>\n",
       "      <td>0.978907</td>\n",
       "    </tr>\n",
       "    <tr>\n",
       "      <th>std</th>\n",
       "      <td>1.776349</td>\n",
       "    </tr>\n",
       "    <tr>\n",
       "      <th>min</th>\n",
       "      <td>0.000000</td>\n",
       "    </tr>\n",
       "    <tr>\n",
       "      <th>25%</th>\n",
       "      <td>0.052500</td>\n",
       "    </tr>\n",
       "    <tr>\n",
       "      <th>50%</th>\n",
       "      <td>0.405000</td>\n",
       "    </tr>\n",
       "    <tr>\n",
       "      <th>75%</th>\n",
       "      <td>1.087500</td>\n",
       "    </tr>\n",
       "    <tr>\n",
       "      <th>max</th>\n",
       "      <td>14.280000</td>\n",
       "    </tr>\n",
       "  </tbody>\n",
       "</table>\n",
       "</div>"
      ],
      "text/plain": [
       "       precipitation\n",
       "count     366.000000\n",
       "mean        0.978907\n",
       "std         1.776349\n",
       "min         0.000000\n",
       "25%         0.052500\n",
       "50%         0.405000\n",
       "75%         1.087500\n",
       "max        14.280000"
      ]
     },
     "execution_count": 57,
     "metadata": {},
     "output_type": "execute_result"
    }
   ],
   "source": [
    "# Use Pandas to calcualte the summary statistics for the precipitation data\n",
    "date_precip_grouped_df_for_1_year.describe()"
   ]
  },
  {
   "cell_type": "markdown",
   "metadata": {},
   "source": [
    "### Explanation of my approach to completing the second section\n",
    "\n",
    "* Now, we are interested in different information. I used SQL Alchemy queries to find out how many stations are in the Station datatable, and how active each station is (from how many rows are provided for each station). I filtered the dataset, only considering the most active station, and then I went through the same process as before to create two separate lists (via a for-loop), a dictionary, and then a dataframe I could use to plot the results."
   ]
  },
  {
   "cell_type": "code",
   "execution_count": 66,
   "metadata": {},
   "outputs": [
    {
     "name": "stdout",
     "output_type": "stream",
     "text": [
      "There are [(9,)] stations in this dataset\n"
     ]
    }
   ],
   "source": [
    "# Design a query to show how many stations are available in this dataset?\n",
    "\n",
    "station_count = session.query(func.count(Station.station)).all()\n",
    "print(f\"There are {station_count} stations in this dataset\")"
   ]
  },
  {
   "cell_type": "code",
   "execution_count": 68,
   "metadata": {},
   "outputs": [
    {
     "name": "stdout",
     "output_type": "stream",
     "text": [
      "[('USC00519281', 2772), ('USC00519397', 2724), ('USC00513117', 2709), ('USC00519523', 2669), ('USC00516128', 2612), ('USC00514830', 2202), ('USC00511918', 1979), ('USC00517948', 1372), ('USC00518838', 511)]\n"
     ]
    }
   ],
   "source": [
    "# What are the most active stations? (i.e. what stations have the most rows)?\n",
    "# List the stations and the counts in descending order.\n",
    "\n",
    "station_counts_list_desc = session.query(Measurement.station, func.count(Measurement.station).label(\"scount\")).\\\n",
    "                    group_by(Measurement.station).\\\n",
    "                    order_by(desc(\"scount\")).\\\n",
    "                    all()\n",
    "\n",
    "print(station_counts_list_desc)"
   ]
  },
  {
   "cell_type": "code",
   "execution_count": 69,
   "metadata": {},
   "outputs": [
    {
     "name": "stdout",
     "output_type": "stream",
     "text": [
      "[('USC00519281', 54.0, 85.0, 71.66378066378067)]\n"
     ]
    }
   ],
   "source": [
    "# Using the station id from the previous query, calculate the lowest temperature recorded, \n",
    "# highest temperature recorded, and average temperature most active station?\n",
    "\n",
    "most_active_station_temperatures = session.query(Measurement.station, func.min(Measurement.tobs),\\\n",
    "                        func.max(Measurement.tobs), func.avg(Measurement.tobs)).\\\n",
    "                        filter(Measurement.station == 'USC00519281').\\\n",
    "                        all()\n",
    "print(most_active_station_temperatures)"
   ]
  },
  {
   "cell_type": "code",
   "execution_count": 70,
   "metadata": {},
   "outputs": [
    {
     "name": "stdout",
     "output_type": "stream",
     "text": [
      "[('USC00519281', 77.0), ('USC00519281', 77.0), ('USC00519281', 80.0), ('USC00519281', 80.0), ('USC00519281', 75.0), ('USC00519281', 73.0), ('USC00519281', 78.0), ('USC00519281', 77.0), ('USC00519281', 78.0), ('USC00519281', 80.0), ('USC00519281', 80.0), ('USC00519281', 78.0), ('USC00519281', 78.0), ('USC00519281', 78.0), ('USC00519281', 73.0), ('USC00519281', 74.0), ('USC00519281', 80.0), ('USC00519281', 79.0), ('USC00519281', 77.0), ('USC00519281', 80.0), ('USC00519281', 76.0), ('USC00519281', 79.0), ('USC00519281', 75.0), ('USC00519281', 79.0), ('USC00519281', 78.0), ('USC00519281', 79.0), ('USC00519281', 78.0), ('USC00519281', 78.0), ('USC00519281', 76.0), ('USC00519281', 74.0), ('USC00519281', 77.0), ('USC00519281', 78.0), ('USC00519281', 79.0), ('USC00519281', 79.0), ('USC00519281', 77.0), ('USC00519281', 80.0), ('USC00519281', 78.0), ('USC00519281', 78.0), ('USC00519281', 78.0), ('USC00519281', 77.0), ('USC00519281', 79.0), ('USC00519281', 79.0), ('USC00519281', 79.0), ('USC00519281', 79.0), ('USC00519281', 75.0), ('USC00519281', 76.0), ('USC00519281', 73.0), ('USC00519281', 72.0), ('USC00519281', 71.0), ('USC00519281', 77.0), ('USC00519281', 79.0), ('USC00519281', 78.0), ('USC00519281', 79.0), ('USC00519281', 77.0), ('USC00519281', 79.0), ('USC00519281', 77.0), ('USC00519281', 78.0), ('USC00519281', 78.0), ('USC00519281', 78.0), ('USC00519281', 78.0), ('USC00519281', 77.0), ('USC00519281', 74.0), ('USC00519281', 75.0), ('USC00519281', 76.0), ('USC00519281', 73.0), ('USC00519281', 76.0), ('USC00519281', 74.0), ('USC00519281', 77.0), ('USC00519281', 76.0), ('USC00519281', 76.0), ('USC00519281', 74.0), ('USC00519281', 75.0), ('USC00519281', 75.0), ('USC00519281', 75.0), ('USC00519281', 75.0), ('USC00519281', 71.0), ('USC00519281', 63.0), ('USC00519281', 70.0), ('USC00519281', 68.0), ('USC00519281', 67.0), ('USC00519281', 77.0), ('USC00519281', 74.0), ('USC00519281', 77.0), ('USC00519281', 76.0), ('USC00519281', 76.0), ('USC00519281', 75.0), ('USC00519281', 76.0), ('USC00519281', 75.0), ('USC00519281', 73.0), ('USC00519281', 75.0), ('USC00519281', 73.0), ('USC00519281', 75.0), ('USC00519281', 74.0), ('USC00519281', 75.0), ('USC00519281', 74.0), ('USC00519281', 75.0), ('USC00519281', 73.0), ('USC00519281', 75.0), ('USC00519281', 73.0), ('USC00519281', 73.0), ('USC00519281', 74.0), ('USC00519281', 70.0), ('USC00519281', 72.0), ('USC00519281', 70.0), ('USC00519281', 67.0), ('USC00519281', 67.0), ('USC00519281', 69.0), ('USC00519281', 70.0), ('USC00519281', 68.0), ('USC00519281', 69.0), ('USC00519281', 69.0), ('USC00519281', 66.0), ('USC00519281', 65.0), ('USC00519281', 68.0), ('USC00519281', 62.0), ('USC00519281', 75.0), ('USC00519281', 70.0), ('USC00519281', 69.0), ('USC00519281', 76.0), ('USC00519281', 76.0), ('USC00519281', 74.0), ('USC00519281', 73.0), ('USC00519281', 71.0), ('USC00519281', 74.0), ('USC00519281', 74.0), ('USC00519281', 72.0), ('USC00519281', 71.0), ('USC00519281', 72.0), ('USC00519281', 74.0), ('USC00519281', 69.0), ('USC00519281', 67.0), ('USC00519281', 72.0), ('USC00519281', 70.0), ('USC00519281', 64.0), ('USC00519281', 63.0), ('USC00519281', 63.0), ('USC00519281', 62.0), ('USC00519281', 70.0), ('USC00519281', 70.0), ('USC00519281', 62.0), ('USC00519281', 62.0), ('USC00519281', 63.0), ('USC00519281', 65.0), ('USC00519281', 69.0), ('USC00519281', 77.0), ('USC00519281', 70.0), ('USC00519281', 74.0), ('USC00519281', 69.0), ('USC00519281', 72.0), ('USC00519281', 71.0), ('USC00519281', 69.0), ('USC00519281', 71.0), ('USC00519281', 71.0), ('USC00519281', 72.0), ('USC00519281', 72.0), ('USC00519281', 69.0), ('USC00519281', 70.0), ('USC00519281', 66.0), ('USC00519281', 65.0), ('USC00519281', 69.0), ('USC00519281', 68.0), ('USC00519281', 68.0), ('USC00519281', 68.0), ('USC00519281', 59.0), ('USC00519281', 60.0), ('USC00519281', 70.0), ('USC00519281', 73.0), ('USC00519281', 75.0), ('USC00519281', 64.0), ('USC00519281', 59.0), ('USC00519281', 59.0), ('USC00519281', 62.0), ('USC00519281', 68.0), ('USC00519281', 70.0), ('USC00519281', 73.0), ('USC00519281', 79.0), ('USC00519281', 75.0), ('USC00519281', 65.0), ('USC00519281', 70.0), ('USC00519281', 74.0), ('USC00519281', 70.0), ('USC00519281', 70.0), ('USC00519281', 71.0), ('USC00519281', 71.0), ('USC00519281', 71.0), ('USC00519281', 69.0), ('USC00519281', 61.0), ('USC00519281', 67.0), ('USC00519281', 65.0), ('USC00519281', 72.0), ('USC00519281', 71.0), ('USC00519281', 73.0), ('USC00519281', 72.0), ('USC00519281', 77.0), ('USC00519281', 73.0), ('USC00519281', 67.0), ('USC00519281', 62.0), ('USC00519281', 64.0), ('USC00519281', 67.0), ('USC00519281', 66.0), ('USC00519281', 81.0), ('USC00519281', 69.0), ('USC00519281', 66.0), ('USC00519281', 67.0), ('USC00519281', 69.0), ('USC00519281', 66.0), ('USC00519281', 68.0), ('USC00519281', 65.0), ('USC00519281', 74.0), ('USC00519281', 69.0), ('USC00519281', 72.0), ('USC00519281', 73.0), ('USC00519281', 72.0), ('USC00519281', 71.0), ('USC00519281', 76.0), ('USC00519281', 77.0), ('USC00519281', 76.0), ('USC00519281', 74.0), ('USC00519281', 68.0), ('USC00519281', 73.0), ('USC00519281', 71.0), ('USC00519281', 74.0), ('USC00519281', 75.0), ('USC00519281', 70.0), ('USC00519281', 67.0), ('USC00519281', 71.0), ('USC00519281', 67.0), ('USC00519281', 74.0), ('USC00519281', 77.0), ('USC00519281', 78.0), ('USC00519281', 67.0), ('USC00519281', 70.0), ('USC00519281', 69.0), ('USC00519281', 69.0), ('USC00519281', 74.0), ('USC00519281', 78.0), ('USC00519281', 71.0), ('USC00519281', 67.0), ('USC00519281', 68.0), ('USC00519281', 67.0), ('USC00519281', 76.0), ('USC00519281', 69.0), ('USC00519281', 72.0), ('USC00519281', 76.0), ('USC00519281', 68.0), ('USC00519281', 72.0), ('USC00519281', 74.0), ('USC00519281', 70.0), ('USC00519281', 67.0), ('USC00519281', 72.0), ('USC00519281', 60.0), ('USC00519281', 65.0), ('USC00519281', 75.0), ('USC00519281', 70.0), ('USC00519281', 75.0), ('USC00519281', 70.0), ('USC00519281', 79.0), ('USC00519281', 75.0), ('USC00519281', 70.0), ('USC00519281', 67.0), ('USC00519281', 74.0), ('USC00519281', 70.0), ('USC00519281', 75.0), ('USC00519281', 76.0), ('USC00519281', 77.0), ('USC00519281', 74.0), ('USC00519281', 74.0), ('USC00519281', 74.0), ('USC00519281', 69.0), ('USC00519281', 68.0), ('USC00519281', 76.0), ('USC00519281', 74.0), ('USC00519281', 71.0), ('USC00519281', 71.0), ('USC00519281', 74.0), ('USC00519281', 74.0), ('USC00519281', 74.0), ('USC00519281', 74.0), ('USC00519281', 80.0), ('USC00519281', 74.0), ('USC00519281', 72.0), ('USC00519281', 75.0), ('USC00519281', 80.0), ('USC00519281', 76.0), ('USC00519281', 76.0), ('USC00519281', 77.0), ('USC00519281', 75.0), ('USC00519281', 75.0), ('USC00519281', 75.0), ('USC00519281', 75.0), ('USC00519281', 72.0), ('USC00519281', 74.0), ('USC00519281', 74.0), ('USC00519281', 74.0), ('USC00519281', 76.0), ('USC00519281', 74.0), ('USC00519281', 75.0), ('USC00519281', 73.0), ('USC00519281', 79.0), ('USC00519281', 75.0), ('USC00519281', 72.0), ('USC00519281', 72.0), ('USC00519281', 74.0), ('USC00519281', 72.0), ('USC00519281', 72.0), ('USC00519281', 77.0), ('USC00519281', 71.0), ('USC00519281', 73.0), ('USC00519281', 76.0), ('USC00519281', 77.0), ('USC00519281', 76.0), ('USC00519281', 76.0), ('USC00519281', 79.0), ('USC00519281', 81.0), ('USC00519281', 76.0), ('USC00519281', 78.0), ('USC00519281', 77.0), ('USC00519281', 74.0), ('USC00519281', 75.0), ('USC00519281', 78.0), ('USC00519281', 78.0), ('USC00519281', 69.0), ('USC00519281', 72.0), ('USC00519281', 74.0), ('USC00519281', 74.0), ('USC00519281', 76.0), ('USC00519281', 80.0), ('USC00519281', 80.0), ('USC00519281', 76.0), ('USC00519281', 76.0), ('USC00519281', 76.0), ('USC00519281', 77.0), ('USC00519281', 77.0), ('USC00519281', 77.0), ('USC00519281', 82.0), ('USC00519281', 75.0), ('USC00519281', 77.0), ('USC00519281', 75.0), ('USC00519281', 76.0), ('USC00519281', 81.0), ('USC00519281', 82.0), ('USC00519281', 81.0), ('USC00519281', 76.0), ('USC00519281', 77.0), ('USC00519281', 82.0), ('USC00519281', 83.0), ('USC00519281', 77.0), ('USC00519281', 77.0), ('USC00519281', 77.0), ('USC00519281', 76.0), ('USC00519281', 76.0), ('USC00519281', 79.0)]\n"
     ]
    }
   ],
   "source": [
    "# Choose the station with the highest number of temperature observations. (USC00519281)\n",
    "# Query the last 12 months of temperature observation data for this station and plot the results as a histogram\n",
    "\n",
    "most_active_station_temperature_observations_from_last_year = session.query(Measurement.station, Measurement.tobs).\\\n",
    "                        filter(Measurement.station == 'USC00519281').\\\n",
    "                        filter(Measurement.date >= prev_year_date).all()\n",
    "\n",
    "print(most_active_station_temperature_observations_from_last_year)\n"
   ]
  },
  {
   "cell_type": "code",
   "execution_count": 71,
   "metadata": {},
   "outputs": [
    {
     "name": "stdout",
     "output_type": "stream",
     "text": [
      "USC00519281 73.0\n",
      "USC00519281 66.0\n",
      "USC00519281 75.0\n"
     ]
    }
   ],
   "source": [
    "station_list1=list()\n",
    "tobs_list1=list()\n",
    "cnt=0\n",
    "for row in result5:\n",
    "    cnt+=1\n",
    "    station_list1.append(row.station)\n",
    "    tobs_list1.append(row.tobs)\n",
    "    if cnt % 100 == 0 :\n",
    "        print(row.station, row.tobs)"
   ]
  },
  {
   "cell_type": "code",
   "execution_count": 24,
   "metadata": {},
   "outputs": [
    {
     "data": {
      "text/plain": [
       "dict"
      ]
     },
     "execution_count": 24,
     "metadata": {},
     "output_type": "execute_result"
    }
   ],
   "source": [
    "tobs_data_dict={\"station\":station_lst1,\"tobs\":tobs_lst1}\n",
    "type(tobs_data_dict)"
   ]
  },
  {
   "cell_type": "code",
   "execution_count": 25,
   "metadata": {},
   "outputs": [
    {
     "data": {
      "text/html": [
       "<div>\n",
       "<style scoped>\n",
       "    .dataframe tbody tr th:only-of-type {\n",
       "        vertical-align: middle;\n",
       "    }\n",
       "\n",
       "    .dataframe tbody tr th {\n",
       "        vertical-align: top;\n",
       "    }\n",
       "\n",
       "    .dataframe thead th {\n",
       "        text-align: right;\n",
       "    }\n",
       "</style>\n",
       "<table border=\"1\" class=\"dataframe\">\n",
       "  <thead>\n",
       "    <tr style=\"text-align: right;\">\n",
       "      <th></th>\n",
       "      <th>station</th>\n",
       "      <th>tobs</th>\n",
       "    </tr>\n",
       "  </thead>\n",
       "  <tbody>\n",
       "    <tr>\n",
       "      <th>0</th>\n",
       "      <td>USC00519281</td>\n",
       "      <td>77.0</td>\n",
       "    </tr>\n",
       "    <tr>\n",
       "      <th>1</th>\n",
       "      <td>USC00519281</td>\n",
       "      <td>77.0</td>\n",
       "    </tr>\n",
       "    <tr>\n",
       "      <th>2</th>\n",
       "      <td>USC00519281</td>\n",
       "      <td>80.0</td>\n",
       "    </tr>\n",
       "    <tr>\n",
       "      <th>3</th>\n",
       "      <td>USC00519281</td>\n",
       "      <td>80.0</td>\n",
       "    </tr>\n",
       "    <tr>\n",
       "      <th>4</th>\n",
       "      <td>USC00519281</td>\n",
       "      <td>75.0</td>\n",
       "    </tr>\n",
       "  </tbody>\n",
       "</table>\n",
       "</div>"
      ],
      "text/plain": [
       "       station  tobs\n",
       "0  USC00519281  77.0\n",
       "1  USC00519281  77.0\n",
       "2  USC00519281  80.0\n",
       "3  USC00519281  80.0\n",
       "4  USC00519281  75.0"
      ]
     },
     "execution_count": 25,
     "metadata": {},
     "output_type": "execute_result"
    }
   ],
   "source": [
    "df_4 = pd.DataFrame(tobs_data_dict)\n",
    "df_4.head()"
   ]
  },
  {
   "cell_type": "code",
   "execution_count": 29,
   "metadata": {},
   "outputs": [
    {
     "data": {
      "text/plain": [
       "Text(0.5, 0, 'Temperature (in ºF)')"
      ]
     },
     "execution_count": 29,
     "metadata": {},
     "output_type": "execute_result"
    },
    {
     "data": {
      "image/png": "[encoded data removed]",
      "text/plain": [
       "<Figure size 432x288 with 1 Axes>"
      ]
     },
     "metadata": {
      "needs_background": "light"
     },
     "output_type": "display_data"
    }
   ],
   "source": [
    "df_4.plot(kind=\"hist\", bins = 12)\n",
    "plt.title(\"Temperature by Station Histogram\")\n",
    "plt.xlabel(\"Temperature (in ºF)\")"
   ]
  }
 ],
 "metadata": {
  "kernel_info": {
   "name": "python3"
  },
  "kernelspec": {
   "display_name": "Python 3",
   "language": "python",
   "name": "python3"
  },
  "language_info": {
   "codemirror_mode": {
    "name": "ipython",
    "version": 3
   },
   "file_extension": ".py",
   "mimetype": "text/x-python",
   "name": "python",
   "nbconvert_exporter": "python",
   "pygments_lexer": "ipython3",
   "version": "3.7.3"
  },
  "nteract": {
   "version": "0.12.3"
  },
  "varInspector": {
   "cols": {
    "lenName": 16,
    "lenType": 16,
    "lenVar": 40
   },
   "kernels_config": {
    "python": {
     "delete_cmd_postfix": "",
     "delete_cmd_prefix": "del ",
     "library": "var_list.py",
     "varRefreshCmd": "print(var_dic_list())"
    },
    "r": {
     "delete_cmd_postfix": ") ",
     "delete_cmd_prefix": "rm(",
     "library": "var_list.r",
     "varRefreshCmd": "cat(var_dic_list()) "
    }
   },
   "types_to_exclude": [
    "module",
    "function",
    "builtin_function_or_method",
    "instance",
    "_Feature"
   ],
   "window_display": false
  }
 },
 "nbformat": 4,
 "nbformat_minor": 2
}
